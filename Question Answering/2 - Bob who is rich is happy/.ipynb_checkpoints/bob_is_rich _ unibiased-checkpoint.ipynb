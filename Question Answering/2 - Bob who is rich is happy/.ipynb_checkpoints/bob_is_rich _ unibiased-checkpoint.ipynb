{
 "cells": [
  {
   "cell_type": "markdown",
   "metadata": {},
   "source": [
    "# bob-is-rich _ unibiaised\n",
    "\n",
    "This experiment was presented at [QNLP 2019](file:///Users/alexis.toumi/WORK/discopy/docs/_build/html/talks/qnlp19.html)."
   ]
  },
  {
   "cell_type": "code",
   "execution_count": 1,
   "metadata": {},
   "outputs": [],
   "source": [
    "import pickle\n",
    "import numpy as np\n",
    "from sklearn.model_selection import train_test_split\n",
    "from jax import jit, grad\n",
    "import jax.numpy as np\n",
    "from discopy import Ty, Word, Tensor\n",
    "from discopy.quantum import CX, H, Ket, Rx, Id, sqrt\n",
    "from discopy import CircuitFunctor, Diagram, Id, Cup, qubit\n",
    "from discopy.grammar import brute_force\n",
    "from discopy.rigid import Spider\n",
    "from discopy.quantum.circuit import Functor\n",
    "from random import random, uniform, seed\n",
    "seed(1)"
   ]
  },
  {
   "cell_type": "markdown",
   "metadata": {},
   "source": [
    "**1) First, we define the atomic pregroup types (typically ‘s’ and ‘n’).**"
   ]
  },
  {
   "cell_type": "code",
   "execution_count": 2,
   "metadata": {},
   "outputs": [],
   "source": [
    "s, n = Ty('s'), Ty('n')"
   ]
  },
  {
   "cell_type": "markdown",
   "metadata": {},
   "source": [
    "**2) We assign a number of qubits for each pregroup type.**"
   ]
  },
  {
   "cell_type": "code",
   "execution_count": 3,
   "metadata": {},
   "outputs": [],
   "source": [
    "ob = {s: 0, n: 1}"
   ]
  },
  {
   "cell_type": "markdown",
   "metadata": {},
   "source": [
    "**3) Then we construct the finite vocabulary. For each word we assign a pregroup type.**"
   ]
  },
  {
   "cell_type": "code",
   "execution_count": 4,
   "metadata": {},
   "outputs": [],
   "source": [
    "Alice = Word('Alice', n)\n",
    "loves = Word('loves', n.r @ s @ n.l)\n",
    "Bob =  Word('Bob', n)\n",
    "who = Word('who', n.r @ n @ s.l @ n)\n",
    "is_rich = Word('is rich', n.r @ s)\n",
    "\n",
    "vocab = [Alice, loves, Bob, who, is_rich]\n",
    "N = len(vocab)"
   ]
  },
  {
   "cell_type": "markdown",
   "metadata": {},
   "source": [
    "**4) Every pregroup type will be mapped to a Quantum Circuit. We explicitely build the Quantum Circuits.**"
   ]
  },
  {
   "cell_type": "code",
   "execution_count": 5,
   "metadata": {},
   "outputs": [
    {
     "name": "stdout",
     "output_type": "stream",
     "text": [
      "Circuit for the GHZ state:\n"
     ]
    },
    {
     "data": {
      "image/png": "[encoded data removed]",
      "text/plain": [
       "<Figure size 432x288 with 1 Axes>"
      ]
     },
     "metadata": {
      "needs_background": "light"
     },
     "output_type": "display_data"
    },
    {
     "name": "stdout",
     "output_type": "stream",
     "text": [
      "Tensor(dom=Dim(1), cod=Dim(2, 2, 2), array=[1.+0.j, 0.+0.j, 0.+0.j, 0.+0.j, 0.+0.j, 0.+0.j, 0.+0.j, 1.+0.j])\n"
     ]
    }
   ],
   "source": [
    "GHZ = Functor(ob=lambda o: o, ar=lambda a: a)(sqrt(2) @ Spider(0, 3, n))\n",
    "\n",
    "print(\"Circuit for the GHZ state:\")\n",
    "GHZ.draw(aspect='auto', draw_type_labels=False)\n",
    "print(GHZ.eval())"
   ]
  },
  {
   "cell_type": "code",
   "execution_count": 6,
   "metadata": {},
   "outputs": [
    {
     "data": {
      "image/png": "[encoded data removed]",
      "text/plain": [
       "<Figure size 432x288 with 1 Axes>"
      ]
     },
     "metadata": {
      "needs_background": "light"
     },
     "output_type": "display_data"
    },
    {
     "name": "stdout",
     "output_type": "stream",
     "text": [
      "Tensor(dom=Dim(1), cod=Dim(2), array=[6.123234e-17+0.j, 0.000000e+00-1.j])\n"
     ]
    }
   ],
   "source": [
    "def intransitive_ansatz(phase):\n",
    "    return Ket(0) >> Rx(phase)\n",
    "\n",
    "iv = intransitive_ansatz(0.5)\n",
    "iv.draw(aspect='auto', draw_type_labels=False)\n",
    "print(iv.eval())"
   ]
  },
  {
   "cell_type": "code",
   "execution_count": 7,
   "metadata": {},
   "outputs": [
    {
     "data": {
      "image/png": "[encoded data removed]",
      "text/plain": [
       "<Figure size 432x288 with 1 Axes>"
      ]
     },
     "metadata": {
      "needs_background": "light"
     },
     "output_type": "display_data"
    },
    {
     "name": "stdout",
     "output_type": "stream",
     "text": [
      "Tensor(dom=Dim(1), cod=Dim(2, 2), array=[6.123234e-17+0.j, 0.000000e+00-1.j, 0.000000e+00-1.j, 6.123234e-17+0.j])\n"
     ]
    }
   ],
   "source": [
    "def transitive_ansatz(phase):\n",
    "    return sqrt(2) @ Ket(0, 0) >> H @ Rx(phase) >> CX\n",
    "\n",
    "tv = transitive_ansatz(0.5)\n",
    "tv.draw(aspect='auto', draw_type_labels=False)\n",
    "print(tv.eval())"
   ]
  },
  {
   "cell_type": "markdown",
   "metadata": {},
   "source": [
    "**5) We explicit the mapping for each entry in the vocabulary to their corresponding Quantum Circuits.**"
   ]
  },
  {
   "cell_type": "code",
   "execution_count": 8,
   "metadata": {},
   "outputs": [],
   "source": [
    "ar = lambda params: {\n",
    "    Alice: Ket(0),\n",
    "    loves: transitive_ansatz(params['loves']),\n",
    "    Bob: Ket(1),\n",
    "    who: GHZ,\n",
    "    is_rich: intransitive_ansatz(params['is_rich'])}\n",
    "\n",
    "#number of parameters\n",
    "number_parameters = 2"
   ]
  },
  {
   "cell_type": "markdown",
   "metadata": {},
   "source": [
    "**6) Because the circuit is parameterized, we define a function which takes a set of parameters as inputs and outputs a functor from the grammar category to the category of quantum circuits**"
   ]
  },
  {
   "cell_type": "code",
   "execution_count": 9,
   "metadata": {},
   "outputs": [],
   "source": [
    "#F is a function which takes parameters as input and constructs a Functor\n",
    "F = lambda params: CircuitFunctor(ob, ar({'loves': params[0], 'is_rich': params[1]}))"
   ]
  },
  {
   "cell_type": "markdown",
   "metadata": {},
   "source": [
    "**7) Another functor is created to evaluate the circuit**"
   ]
  },
  {
   "cell_type": "code",
   "execution_count": 10,
   "metadata": {},
   "outputs": [],
   "source": [
    "evaluate = lambda F, sentence: F(sentences2diagram[sentence]).measure()"
   ]
  },
  {
   "cell_type": "markdown",
   "metadata": {},
   "source": [
    "**8) We download the csv giving the truth value of each sentence. We split the data in train and test set.**"
   ]
  },
  {
   "cell_type": "code",
   "execution_count": 11,
   "metadata": {},
   "outputs": [
    {
     "name": "stdout",
     "output_type": "stream",
     "text": [
      "Alice is rich\n"
     ]
    },
    {
     "ename": "NameError",
     "evalue": "name 'N' is not defined",
     "output_type": "error",
     "traceback": [
      "\u001b[0;31m---------------------------------------------------------------------------\u001b[0m",
      "\u001b[0;31mNameError\u001b[0m                                 Traceback (most recent call last)",
      "\u001b[0;32m/tmp/ipykernel_153168/1807131866.py\u001b[0m in \u001b[0;36m<module>\u001b[0;34m\u001b[0m\n\u001b[1;32m     16\u001b[0m         \u001b[0;31m#for visualization\u001b[0m\u001b[0;34m\u001b[0m\u001b[0;34m\u001b[0m\u001b[0;34m\u001b[0m\u001b[0m\n\u001b[1;32m     17\u001b[0m         \u001b[0mprint\u001b[0m\u001b[0;34m(\u001b[0m\u001b[0msentence\u001b[0m\u001b[0;34m)\u001b[0m\u001b[0;34m\u001b[0m\u001b[0;34m\u001b[0m\u001b[0m\n\u001b[0;32m---> 18\u001b[0;31m         \u001b[0mF\u001b[0m\u001b[0;34m(\u001b[0m\u001b[0mnp\u001b[0m\u001b[0;34m.\u001b[0m\u001b[0mones\u001b[0m\u001b[0;34m(\u001b[0m\u001b[0mN\u001b[0m\u001b[0;34m)\u001b[0m\u001b[0;34m)\u001b[0m\u001b[0;34m(\u001b[0m\u001b[0mdiagram\u001b[0m\u001b[0;34m)\u001b[0m\u001b[0;34m.\u001b[0m\u001b[0mdraw\u001b[0m\u001b[0;34m(\u001b[0m\u001b[0mfigsize\u001b[0m\u001b[0;34m=\u001b[0m\u001b[0;34m(\u001b[0m\u001b[0;36m12\u001b[0m\u001b[0;34m,\u001b[0m \u001b[0;36m8\u001b[0m\u001b[0;34m)\u001b[0m\u001b[0;34m,\u001b[0m \u001b[0maspect\u001b[0m\u001b[0;34m=\u001b[0m\u001b[0;34m'auto'\u001b[0m\u001b[0;34m,\u001b[0m \u001b[0mdraw_type_labels\u001b[0m\u001b[0;34m=\u001b[0m\u001b[0;32mFalse\u001b[0m\u001b[0;34m,\u001b[0m \u001b[0mnodesize\u001b[0m\u001b[0;34m=\u001b[0m\u001b[0;36m1\u001b[0m\u001b[0;34m)\u001b[0m\u001b[0;34m\u001b[0m\u001b[0;34m\u001b[0m\u001b[0m\n\u001b[0m\u001b[1;32m     19\u001b[0m         \u001b[0mprint\u001b[0m\u001b[0;34m(\u001b[0m\u001b[0;34m)\u001b[0m\u001b[0;34m\u001b[0m\u001b[0;34m\u001b[0m\u001b[0m\n",
      "\u001b[0;31mNameError\u001b[0m: name 'N' is not defined"
     ]
    }
   ],
   "source": [
    "sentences = []\n",
    "sentences2truth_values = {}\n",
    "sentences2diagram = {}\n",
    "\n",
    "csv_file = 'dataset.csv'\n",
    "#csv_file = 'dataset_biaised.csv'\n",
    "with open('datas/'+csv_file) as fp:\n",
    "    for line in fp:\n",
    "        line.strip(\"\\n\")\n",
    "        sent_id, sentence, truth_value = line.split('\\t')\n",
    "        serialized_diagram = open('datas/serialized_sentences/'+sent_id, 'rb')\n",
    "        diagram = pickle.loads(serialized_diagram.read())\n",
    "        sentences.append(sentence)\n",
    "        sentences2truth_values[sentence] = int(truth_value)\n",
    "        sentences2diagram[sentence] = diagram\n",
    "        #for visualization\n",
    "        print(sentence)\n",
    "        F(np.ones(N))(diagram).draw(figsize=(12, 8), aspect='auto', draw_type_labels=False, nodesize=1)\n",
    "        print()"
   ]
  },
  {
   "cell_type": "code",
   "execution_count": null,
   "metadata": {},
   "outputs": [],
   "source": [
    "sentence_train, sentence_test = train_test_split(sentences, test_size=0.5, random_state=0)"
   ]
  },
  {
   "cell_type": "code",
   "execution_count": null,
   "metadata": {},
   "outputs": [],
   "source": [
    "print(\"True sentences:\\n{}\\n\".format('\\n'.join(sentence\n",
    "    for sentence, truth_val in sentences2truth_values.items() if truth_val == 1)))\n",
    "print(\"False sentences:\\n{}\".format('\\n'.join(sentence\n",
    "    for sentence, truth_val in sentences2truth_values.items() if truth_val == 0)))"
   ]
  },
  {
   "cell_type": "markdown",
   "metadata": {},
   "source": [
    "**9) We run a classical optimization algorithm to find the parameters for which the prediction score is best on training datas**"
   ]
  },
  {
   "cell_type": "code",
   "execution_count": null,
   "metadata": {},
   "outputs": [],
   "source": [
    "def predict(params, sentence):\n",
    "    epsilon = 1e-2\n",
    "    return int(evaluate(F(params), sentence)[0] > 1 - epsilon)"
   ]
  },
  {
   "cell_type": "code",
   "execution_count": null,
   "metadata": {},
   "outputs": [],
   "source": [
    "#Here we see that depending on the parameter, a given diagram will evaluate to True or False\n",
    "test_sentence = \"Alice who loves Bob is rich\"\n",
    "\n",
    "def find_specific_prediction(test_sentence, targeted_prediction):\n",
    "    prediction = None\n",
    "    while not prediction == targeted_prediction:\n",
    "        test_params = np.array([uniform(-1, 1) for i in range(number_parameters)])\n",
    "        prediction = predict(test_params, test_sentence)\n",
    "    print(\"Random test_params: {},\\t prediction: {}\".format(test_params, prediction))\n",
    "\n",
    "find_specific_prediction(test_sentence, 0)\n",
    "find_specific_prediction(test_sentence, 1)"
   ]
  },
  {
   "cell_type": "code",
   "execution_count": null,
   "metadata": {},
   "outputs": [],
   "source": [
    "Tensor.np = np  # This ensures we can differentiate Circuit.eval with respect to phases.\n",
    "\n",
    "@jit\n",
    "def training_loss(params):\n",
    "    return np.mean(np.array([\n",
    "        (sentences2truth_values[sentence] - evaluate(F(params), sentence)) ** 2\n",
    "        for sentence in sentence_train]))\n",
    "\n",
    "@jit\n",
    "def testing_loss(params):\n",
    "    return np.mean(np.array([\n",
    "        (sentences2truth_values[sentence] - evaluate(F(params), sentence)) ** 2\n",
    "        for sentence in sentence_test]))\n",
    "\n",
    "step_size = 1e-2\n",
    "\n",
    "@jit\n",
    "def update(params):\n",
    "    return params - step_size * grad(training_loss)(params)"
   ]
  },
  {
   "cell_type": "code",
   "execution_count": null,
   "metadata": {},
   "outputs": [],
   "source": [
    "#random initialisation of params\n",
    "params = np.array([uniform(-1, 1) for i in range(number_parameters)])\n",
    "\n",
    "epochs, iterations = 30, 5\n",
    "\n",
    "for i in range(epochs):\n",
    "    for j in range(iterations):\n",
    "        params = update(params)\n",
    "\n",
    "    print(\"Epoch {}\".format(i))\n",
    "    print(\"params['loves'] = {:.3f}\".format(params[0]))\n",
    "    print(\"params['is rich'] = {:.3f}\".format(params[1]))\n",
    "    print(\"Training score: {}%\".format(int((1-training_loss(params)) * 10000) / 100))\n",
    "    print(\"Testing score: {}%\\n\".format(int((1-testing_loss(params)) * 10000) / 100))"
   ]
  },
  {
   "cell_type": "markdown",
   "metadata": {},
   "source": [
    "**Training and test set are split (50% - 50%), so we see the overall fitting score is 78.6%**"
   ]
  },
  {
   "cell_type": "code",
   "execution_count": null,
   "metadata": {},
   "outputs": [],
   "source": []
  }
 ],
 "metadata": {
  "kernelspec": {
   "display_name": "Python 3 (ipykernel)",
   "language": "python",
   "name": "python3"
  },
  "language_info": {
   "codemirror_mode": {
    "name": "ipython",
    "version": 3
   },
   "file_extension": ".py",
   "mimetype": "text/x-python",
   "name": "python",
   "nbconvert_exporter": "python",
   "pygments_lexer": "ipython3",
   "version": "3.8.10"
  }
 },
 "nbformat": 4,
 "nbformat_minor": 2
}
