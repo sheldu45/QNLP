{
 "cells": [
  {
   "cell_type": "code",
   "execution_count": null,
   "id": "eacfc249",
   "metadata": {},
   "outputs": [],
   "source": [
    "s, n = Ty('s'), Ty('n')"
   ]
  },
  {
   "cell_type": "code",
   "execution_count": null,
   "id": "040fd4f2",
   "metadata": {},
   "outputs": [],
   "source": []
  },
  {
   "cell_type": "code",
   "execution_count": null,
   "id": "69efcfa0",
   "metadata": {},
   "outputs": [],
   "source": [
    "'''\n",
    "Bruteforce through grammatical sentences.\n",
    "These sentences are than used as corpus for our experiment, modelized as Quantum Circuits (each one with his parameters, using ML to learn those) \n",
    "'''\n",
    "from time import time\n",
    "from discopy.grammar import brute_force\n",
    "\n",
    "gen, n_sentences = brute_force(*vocab), 20\n",
    "sentences, parsing = list(), dict()\n",
    "\n",
    "print(\"Brute force search for grammatical sentences:\")\n",
    "\n",
    "start = time()\n",
    "for i in range(n_sentences):\n",
    "    #next diagram in CFG generator\n",
    "    diagram = next(gen)\n",
    "    sentence = ' '.join(str(w)\n",
    "        for w in diagram.boxes if isinstance(w, Word)) + '.'\n",
    "    sentences.append(sentence)\n",
    "    parsing.update({sentence: diagram})\n",
    "    print(sentence)\n",
    "print(\"\\n{:.2f} seconds to generate {} sentences.\".format(time() - start, n_sentences))\n",
    "\n",
    "\n",
    "sentences2truth_values = dict()\n",
    "with open('bob_is_rich.csv') as fs:\n",
    "    for line in fs:\n",
    "        line.rstrip('\\n')\n",
    "        sentence, truth_val = line.split('\\t')\n",
    "        sentences2truth_values[sentence] = float(truth_val)\n"
   ]
  }
 ],
 "metadata": {
  "kernelspec": {
   "display_name": "Python 3 (ipykernel)",
   "language": "python",
   "name": "python3"
  },
  "language_info": {
   "codemirror_mode": {
    "name": "ipython",
    "version": 3
   },
   "file_extension": ".py",
   "mimetype": "text/x-python",
   "name": "python",
   "nbconvert_exporter": "python",
   "pygments_lexer": "ipython3",
   "version": "3.8.10"
  }
 },
 "nbformat": 4,
 "nbformat_minor": 5
}
